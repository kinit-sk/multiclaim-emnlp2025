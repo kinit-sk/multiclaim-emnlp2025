{
 "cells": [
  {
   "cell_type": "code",
   "execution_count": 1,
   "metadata": {},
   "outputs": [],
   "source": [
    "import os\n",
    "import pandas as pd\n",
    "\n",
    "from src.datasets import dataset_factory"
   ]
  },
  {
   "cell_type": "markdown",
   "metadata": {},
   "source": [
    "# Prepare dataset"
   ]
  },
  {
   "cell_type": "code",
   "execution_count": 2,
   "metadata": {},
   "outputs": [],
   "source": [
    "datapath = os.path.join('datasets', 'multiclaim_extended')"
   ]
  },
  {
   "cell_type": "code",
   "execution_count": 3,
   "metadata": {},
   "outputs": [
    {
     "name": "stdout",
     "output_type": "stream",
     "text": [
      "<class 'pandas.core.frame.DataFrame'>\n",
      "RangeIndex: 435252 entries, 0 to 435251\n",
      "Data columns (total 13 columns):\n",
      " #   Column                       Non-Null Count   Dtype \n",
      "---  ------                       --------------   ----- \n",
      " 0   fact_check_id                435252 non-null  int64 \n",
      " 1   claim                        435252 non-null  object\n",
      " 2   title                        399159 non-null  object\n",
      " 3   claim_en                     435252 non-null  object\n",
      " 4   title_en                     399156 non-null  object\n",
      " 5   claim_detected_language      435252 non-null  object\n",
      " 6   title_detected_language      399159 non-null  object\n",
      " 7   claim_detected_language_iso  435252 non-null  object\n",
      " 8   title_detected_language_iso  399159 non-null  object\n",
      " 9   instances                    435252 non-null  object\n",
      " 10  claim_v1                     435252 non-null  object\n",
      " 11  title_v1                     399159 non-null  object\n",
      " 12  ratings                      435024 non-null  object\n",
      "dtypes: int64(1), object(12)\n",
      "memory usage: 43.2+ MB\n"
     ]
    }
   ],
   "source": [
    "fc = pd.read_csv(os.path.join(datapath, 'multiclaim_v2', 'fact_checks.csv'))\n",
    "fc.info()"
   ]
  },
  {
   "cell_type": "code",
   "execution_count": 4,
   "metadata": {},
   "outputs": [
    {
     "name": "stdout",
     "output_type": "stream",
     "text": [
      "<class 'pandas.core.frame.DataFrame'>\n",
      "RangeIndex: 89139 entries, 0 to 89138\n",
      "Data columns (total 9 columns):\n",
      " #   Column                      Non-Null Count  Dtype \n",
      "---  ------                      --------------  ----- \n",
      " 0   post_id                     89139 non-null  int64 \n",
      " 1   post_body                   89139 non-null  object\n",
      " 2   post_body_en                89139 non-null  object\n",
      " 3   post_detected_language      89139 non-null  object\n",
      " 4   post_detected_language_iso  89139 non-null  object\n",
      " 5   instances                   89139 non-null  object\n",
      " 6   ocr                         42658 non-null  object\n",
      " 7   verdicts                    67127 non-null  object\n",
      " 8   text_v1                     89139 non-null  object\n",
      "dtypes: int64(1), object(8)\n",
      "memory usage: 6.1+ MB\n"
     ]
    }
   ],
   "source": [
    "posts = pd.read_csv(os.path.join(datapath, 'multiclaim_v2', 'posts.csv'))\n",
    "posts.info()"
   ]
  },
  {
   "cell_type": "code",
   "execution_count": 5,
   "metadata": {},
   "outputs": [
    {
     "name": "stdout",
     "output_type": "stream",
     "text": [
      "<class 'pandas.core.frame.DataFrame'>\n",
      "RangeIndex: 105424 entries, 0 to 105423\n",
      "Data columns (total 3 columns):\n",
      " #   Column         Non-Null Count   Dtype \n",
      "---  ------         --------------   ----- \n",
      " 0   fact_check_id  105424 non-null  int64 \n",
      " 1   post_id        105424 non-null  int64 \n",
      " 2   relationship   105424 non-null  object\n",
      "dtypes: int64(2), object(1)\n",
      "memory usage: 2.4+ MB\n"
     ]
    }
   ],
   "source": [
    "pairs = pd.read_csv(os.path.join(datapath, 'multiclaim_v2', 'fact_check_post_mapping.csv'))\n",
    "pairs.info()"
   ]
  },
  {
   "cell_type": "code",
   "execution_count": 6,
   "metadata": {},
   "outputs": [
    {
     "name": "stdout",
     "output_type": "stream",
     "text": [
      "<class 'pandas.core.frame.DataFrame'>\n",
      "RangeIndex: 52911 entries, 0 to 52910\n",
      "Data columns (total 8 columns):\n",
      " #   Column                       Non-Null Count  Dtype \n",
      "---  ------                       --------------  ----- \n",
      " 0   fact_check_id                52911 non-null  int64 \n",
      " 1   fc_claim_detected_language   52904 non-null  object\n",
      " 2   fc_title_detected_languages  52911 non-null  object\n",
      " 3   fc_claim_ft                  52911 non-null  object\n",
      " 4   fc_claim_ld                  52708 non-null  object\n",
      " 5   fc_claim_gc                  52911 non-null  object\n",
      " 6   fc_claim_po                  52911 non-null  object\n",
      " 7   split                        52911 non-null  object\n",
      "dtypes: int64(1), object(7)\n",
      "memory usage: 3.2+ MB\n"
     ]
    }
   ],
   "source": [
    "fc_splits = pd.read_csv(os.path.join(datapath, 'fact_check_splits.csv'))\n",
    "fc_splits.info()"
   ]
  },
  {
   "cell_type": "code",
   "execution_count": 7,
   "metadata": {},
   "outputs": [
    {
     "name": "stdout",
     "output_type": "stream",
     "text": [
      "<class 'pandas.core.frame.DataFrame'>\n",
      "RangeIndex: 55421 entries, 0 to 55420\n",
      "Data columns (total 8 columns):\n",
      " #   Column                   Non-Null Count  Dtype \n",
      "---  ------                   --------------  ----- \n",
      " 0   post_id                  55421 non-null  int64 \n",
      " 1   post_detected_language   55421 non-null  object\n",
      " 2   post_detected_languages  55421 non-null  object\n",
      " 3   ft                       55421 non-null  object\n",
      " 4   ld                       54804 non-null  object\n",
      " 5   gc                       55421 non-null  object\n",
      " 6   po                       55421 non-null  object\n",
      " 7   split                    55421 non-null  object\n",
      "dtypes: int64(1), object(7)\n",
      "memory usage: 3.4+ MB\n"
     ]
    }
   ],
   "source": [
    "post_splits = pd.read_csv(os.path.join(datapath, 'post_splits.csv'))\n",
    "post_splits.info()"
   ]
  },
  {
   "cell_type": "code",
   "execution_count": 8,
   "metadata": {},
   "outputs": [
    {
     "name": "stdout",
     "output_type": "stream",
     "text": [
      "<class 'pandas.core.frame.DataFrame'>\n",
      "RangeIndex: 63913 entries, 0 to 63912\n",
      "Data columns (total 4 columns):\n",
      " #   Column         Non-Null Count  Dtype \n",
      "---  ------         --------------  ----- \n",
      " 0   fact_check_id  63913 non-null  int64 \n",
      " 1   post_id        63913 non-null  int64 \n",
      " 2   relationship   63913 non-null  object\n",
      " 3   split          63913 non-null  object\n",
      "dtypes: int64(2), object(2)\n",
      "memory usage: 2.0+ MB\n"
     ]
    }
   ],
   "source": [
    "pair_splits = pd.read_csv(os.path.join(datapath, 'fact_check_post_mapping_splits.csv'))\n",
    "pair_splits.info()"
   ]
  },
  {
   "cell_type": "code",
   "execution_count": 9,
   "metadata": {},
   "outputs": [
    {
     "name": "stdout",
     "output_type": "stream",
     "text": [
      "<class 'pandas.core.frame.DataFrame'>\n",
      "RangeIndex: 52911 entries, 0 to 52910\n",
      "Data columns (total 5 columns):\n",
      " #   Column                   Non-Null Count  Dtype \n",
      "---  ------                   --------------  ----- \n",
      " 0   fact_check_id            52911 non-null  int64 \n",
      " 1   claim                    52911 non-null  object\n",
      " 2   claim_en                 52911 non-null  object\n",
      " 3   claim_detected_language  52904 non-null  object\n",
      " 4   split                    52911 non-null  object\n",
      "dtypes: int64(1), object(4)\n",
      "memory usage: 2.0+ MB\n"
     ]
    }
   ],
   "source": [
    "fc_merged = pd.merge(fc[['fact_check_id', 'claim', 'claim_en']], fc_splits[['fact_check_id', 'fc_claim_detected_language', 'split']], how='right', on='fact_check_id')\n",
    "fc_merged.rename(columns={'fc_claim_detected_language': 'claim_detected_language'}, inplace=True)\n",
    "fc_merged.info()"
   ]
  },
  {
   "cell_type": "code",
   "execution_count": 10,
   "metadata": {},
   "outputs": [
    {
     "name": "stdout",
     "output_type": "stream",
     "text": [
      "<class 'pandas.core.frame.DataFrame'>\n",
      "RangeIndex: 55421 entries, 0 to 55420\n",
      "Data columns (total 5 columns):\n",
      " #   Column                  Non-Null Count  Dtype \n",
      "---  ------                  --------------  ----- \n",
      " 0   post_id                 55421 non-null  int64 \n",
      " 1   post_body               55421 non-null  object\n",
      " 2   post_body_en            55421 non-null  object\n",
      " 3   post_detected_language  55421 non-null  object\n",
      " 4   split                   55421 non-null  object\n",
      "dtypes: int64(1), object(4)\n",
      "memory usage: 2.1+ MB\n"
     ]
    }
   ],
   "source": [
    "posts_merged = pd.merge(posts[['post_id', 'post_body', 'post_body_en']], post_splits[['post_id', 'post_detected_language', 'split']], how='right', on='post_id')\n",
    "posts_merged.info()"
   ]
  },
  {
   "cell_type": "code",
   "execution_count": 11,
   "metadata": {},
   "outputs": [
    {
     "name": "stdout",
     "output_type": "stream",
     "text": [
      "<class 'pandas.core.frame.DataFrame'>\n",
      "RangeIndex: 63913 entries, 0 to 63912\n",
      "Data columns (total 4 columns):\n",
      " #   Column         Non-Null Count  Dtype \n",
      "---  ------         --------------  ----- \n",
      " 0   fact_check_id  63913 non-null  int64 \n",
      " 1   post_id        63913 non-null  int64 \n",
      " 2   relationship   63913 non-null  object\n",
      " 3   split          63913 non-null  object\n",
      "dtypes: int64(2), object(2)\n",
      "memory usage: 2.0+ MB\n"
     ]
    }
   ],
   "source": [
    "pairs_merged = pd.merge(pairs, pair_splits, how='right', on=['fact_check_id', 'post_id', 'relationship'])\n",
    "pairs_merged.info()"
   ]
  },
  {
   "cell_type": "code",
   "execution_count": 12,
   "metadata": {},
   "outputs": [],
   "source": [
    "fc_merged.to_csv(f'{datapath}/fact_checks.csv', index=False)"
   ]
  },
  {
   "cell_type": "code",
   "execution_count": 13,
   "metadata": {},
   "outputs": [],
   "source": [
    "posts_merged.to_csv(f'{datapath}/posts.csv', index=False)"
   ]
  },
  {
   "cell_type": "code",
   "execution_count": 14,
   "metadata": {},
   "outputs": [],
   "source": [
    "pairs_merged.to_csv(f'{datapath}/fact_check_post_mapping.csv', index=False)"
   ]
  },
  {
   "cell_type": "markdown",
   "metadata": {},
   "source": [
    "## Load final dataset"
   ]
  },
  {
   "cell_type": "code",
   "execution_count": 15,
   "metadata": {},
   "outputs": [
    {
     "name": "stderr",
     "output_type": "stream",
     "text": [
      "INFO:src.datasets.multiclaim_extended.multiclaim_extended_dataset:Loading fact-checks.\n",
      "INFO:src.datasets.multiclaim_extended.multiclaim_extended_dataset:52911 loaded.\n",
      "INFO:src.datasets.multiclaim_extended.multiclaim_extended_dataset:Loading posts.\n",
      "INFO:src.datasets.multiclaim_extended.multiclaim_extended_dataset:55421 loaded.\n",
      "INFO:src.datasets.multiclaim_extended.multiclaim_extended_dataset:Loading fact-check-post mapping.\n",
      "INFO:src.datasets.multiclaim_extended.multiclaim_extended_dataset:63913 loaded.\n",
      "INFO:src.datasets.multiclaim_extended.multiclaim_extended_dataset:Filtering by split: train\n",
      "INFO:src.datasets.multiclaim_extended.multiclaim_extended_dataset:Posts remaining: 44553\n",
      "INFO:src.datasets.multiclaim_extended.multiclaim_extended_dataset:Fact-check-post mappings remaining: 51658\n",
      "INFO:src.datasets.multiclaim_extended.multiclaim_extended_dataset:Fact-checks remaining: 41060\n",
      "INFO:src.datasets.multiclaim_extended.multiclaim_extended_dataset:Mappings remaining: 51658.\n",
      "INFO:src.datasets.multiclaim_extended.multiclaim_extended_dataset:Filtering posts.\n",
      "INFO:src.datasets.multiclaim_extended.multiclaim_extended_dataset:Posts remaining: 44553\n",
      "INFO:src.datasets.multiclaim_extended.multiclaim_extended_dataset:Filtering fact-checks.\n",
      "INFO:src.datasets.multiclaim_extended.multiclaim_extended_dataset:Fact-checks remaining: 41060\n",
      "INFO:src.datasets.multiclaim_extended.multiclaim_extended_dataset:Loading negative samples.\n",
      "INFO:src.datasets.multiclaim_extended.multiclaim_extended_dataset:44553 loaded.\n",
      "INFO:src.datasets.multiclaim_extended.multiclaim_extended_dataset:Filtering negative samples.\n",
      "INFO:src.datasets.multiclaim_extended.multiclaim_extended_dataset:Negative samples remaining: 44553\n"
     ]
    }
   ],
   "source": [
    "dataset = dataset_factory('multiclaim_extended',\n",
    "                          relationship = ('backlink', 'claimreview_schema'),\n",
    "                          crosslingual=False,\n",
    "                          fact_check_language=None,\n",
    "                          language=None,\n",
    "                          post_language=None,\n",
    "                          fact_check_languages_exclude=None,\n",
    "                          languages_exclude=None,\n",
    "                          post_languages_exclude=None,\n",
    "                          split='train',\n",
    "                          version='original',\n",
    "                          filter_mapped_fact_checks=True,\n",
    "                          negatives='similarity').load()"
   ]
  },
  {
   "cell_type": "code",
   "execution_count": null,
   "metadata": {},
   "outputs": [],
   "source": [
    "list(dataset.id_to_post.items())[:5]"
   ]
  },
  {
   "cell_type": "code",
   "execution_count": null,
   "metadata": {},
   "outputs": [],
   "source": [
    "list(dataset.id_to_fact_check.items())[:5]"
   ]
  },
  {
   "cell_type": "code",
   "execution_count": null,
   "metadata": {},
   "outputs": [],
   "source": [
    "list(dataset.id_to_negatives.items())[:5]"
   ]
  },
  {
   "cell_type": "code",
   "execution_count": null,
   "metadata": {},
   "outputs": [],
   "source": [
    "dataset[0]"
   ]
  }
 ],
 "metadata": {
  "kernelspec": {
   "display_name": "multiclaim-extended",
   "language": "python",
   "name": "python3"
  },
  "language_info": {
   "codemirror_mode": {
    "name": "ipython",
    "version": 3
   },
   "file_extension": ".py",
   "mimetype": "text/x-python",
   "name": "python",
   "nbconvert_exporter": "python",
   "pygments_lexer": "ipython3",
   "version": "3.10.18"
  }
 },
 "nbformat": 4,
 "nbformat_minor": 2
}
